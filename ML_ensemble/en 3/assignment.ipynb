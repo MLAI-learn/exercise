{
 "cells": [
  {
   "cell_type": "markdown",
   "id": "6f69b4bf-679f-4ff8-ae04-1ec5ef1b9230",
   "metadata": {},
   "source": [
    "### Problem Statement\n",
    "\n",
    "You are a data scientist / AI engineer working on a classification problem to predict the quality of milk. You have been provided with a dataset named **`\"milk_quality_data.csv\"`**, which includes various parameters that affect milk quality. The dataset comprises the following columns:\n",
    "\n",
    "- `ph:` The pH level of the milk.\n",
    "- `temperature:` The temperature of the milk.\n",
    "- `taste:` Whether the taste is good or bad (1 for good, 0 for bad).\n",
    "- `odor:` Whether the odor is good or bad (1 for good, 0 for bad).\n",
    "- `fat:` Whether the fat content is optimal or not (1 for optimal, 0 for not).\n",
    "- `turbidity:` Whether the turbidity is high or low (1 for high, 0 for low).\n",
    "- `colour:` The color value of the milk.\n",
    "- `grade:` The quality of the milk (low, medium, high).\n",
    "  \n",
    "Your task is to use this dataset to build and evaluate machine learning models to predict the grade of the milk based on the given parameters. You will perform data preprocessing, exploratory data analysis, and model training using different algorithms, including logistic regression, decision tree, gradient boosting, and XGBoost.\n",
    "\n",
    "**Dataset credits:** shrijayan (https://www.kaggle.com/datasets/cpluzshrijayan/milkquality/data)"
   ]
  },
  {
   "cell_type": "markdown",
   "id": "8c77c434-d102-434a-b28f-313d7b830f70",
   "metadata": {},
   "source": [
    "**Import Necessary Libraries**"
   ]
  },
  {
   "cell_type": "code",
   "execution_count": 12,
   "id": "6853a3e3-d7f7-489e-bebb-5017e9c573e9",
   "metadata": {},
   "outputs": [],
   "source": [
    "#Import Necessary Libraries\n",
    "import pandas as pd \n",
    "import seaborn as sns\n",
    "import matplotlib.pyplot as plt\n",
    "from sklearn.linear_model import LogisticRegression\n",
    "from sklearn.tree import DecisionTreeClassifier\n",
    "from sklearn.ensemble import GradientBoostingClassifier\n",
    "from xgboost import XGBClassifier\n",
    "from sklearn.model_selection import train_test_split\n",
    "from sklearn.metrics import confusion_matrix,classification_report\n",
    "import warnings\n",
    "warnings.filterwarnings('ignore')"
   ]
  },
  {
   "cell_type": "markdown",
   "id": "c2d8e280-10a4-4535-a96b-b53dfa01abc5",
   "metadata": {},
   "source": [
    "### Task 1: Data Preparation and Exploration\n",
    "\n",
    "1. Import the data from the `\"milk_quality_data.csv\"` file and store it in a variable df.\n",
    "2. Display the number of rows and columns in the dataset.\n",
    "3. Display the first few rows of the dataset to get an overview.\n",
    "4. Check for any missing values in the dataset and handle them appropriately.\n",
    "5. Encode the target variable `grade` by mapping it to numbers `(low = 0, medium = 1, high = 2)`.\n",
    "6. Visualize the distribution of key features `(ph, temperature)` using histograms."
   ]
  },
  {
   "cell_type": "code",
   "execution_count": 4,
   "id": "1bcce98f-8b8a-40ef-b4d1-b5506009baf2",
   "metadata": {},
   "outputs": [
    {
     "name": "stdout",
     "output_type": "stream",
     "text": [
      "(1059, 8)\n"
     ]
    },
    {
     "data": {
      "text/html": [
       "<div>\n",
       "<style scoped>\n",
       "    .dataframe tbody tr th:only-of-type {\n",
       "        vertical-align: middle;\n",
       "    }\n",
       "\n",
       "    .dataframe tbody tr th {\n",
       "        vertical-align: top;\n",
       "    }\n",
       "\n",
       "    .dataframe thead th {\n",
       "        text-align: right;\n",
       "    }\n",
       "</style>\n",
       "<table border=\"1\" class=\"dataframe\">\n",
       "  <thead>\n",
       "    <tr style=\"text-align: right;\">\n",
       "      <th></th>\n",
       "      <th>ph</th>\n",
       "      <th>temperature</th>\n",
       "      <th>taste</th>\n",
       "      <th>odor</th>\n",
       "      <th>fat</th>\n",
       "      <th>turbidity</th>\n",
       "      <th>colour</th>\n",
       "      <th>grade</th>\n",
       "    </tr>\n",
       "  </thead>\n",
       "  <tbody>\n",
       "    <tr>\n",
       "      <th>0</th>\n",
       "      <td>6.6</td>\n",
       "      <td>35</td>\n",
       "      <td>1</td>\n",
       "      <td>0</td>\n",
       "      <td>1</td>\n",
       "      <td>0</td>\n",
       "      <td>254</td>\n",
       "      <td>high</td>\n",
       "    </tr>\n",
       "    <tr>\n",
       "      <th>1</th>\n",
       "      <td>6.6</td>\n",
       "      <td>36</td>\n",
       "      <td>0</td>\n",
       "      <td>1</td>\n",
       "      <td>0</td>\n",
       "      <td>1</td>\n",
       "      <td>253</td>\n",
       "      <td>high</td>\n",
       "    </tr>\n",
       "    <tr>\n",
       "      <th>2</th>\n",
       "      <td>8.5</td>\n",
       "      <td>70</td>\n",
       "      <td>1</td>\n",
       "      <td>1</td>\n",
       "      <td>1</td>\n",
       "      <td>1</td>\n",
       "      <td>246</td>\n",
       "      <td>low</td>\n",
       "    </tr>\n",
       "    <tr>\n",
       "      <th>3</th>\n",
       "      <td>9.5</td>\n",
       "      <td>34</td>\n",
       "      <td>1</td>\n",
       "      <td>1</td>\n",
       "      <td>0</td>\n",
       "      <td>1</td>\n",
       "      <td>255</td>\n",
       "      <td>low</td>\n",
       "    </tr>\n",
       "    <tr>\n",
       "      <th>4</th>\n",
       "      <td>6.6</td>\n",
       "      <td>37</td>\n",
       "      <td>0</td>\n",
       "      <td>0</td>\n",
       "      <td>0</td>\n",
       "      <td>0</td>\n",
       "      <td>255</td>\n",
       "      <td>medium</td>\n",
       "    </tr>\n",
       "  </tbody>\n",
       "</table>\n",
       "</div>"
      ],
      "text/plain": [
       "    ph  temperature  taste  odor  fat  turbidity  colour   grade\n",
       "0  6.6           35      1     0    1          0     254    high\n",
       "1  6.6           36      0     1    0          1     253    high\n",
       "2  8.5           70      1     1    1          1     246     low\n",
       "3  9.5           34      1     1    0          1     255     low\n",
       "4  6.6           37      0     0    0          0     255  medium"
      ]
     },
     "execution_count": 4,
     "metadata": {},
     "output_type": "execute_result"
    }
   ],
   "source": [
    "# Step 1: Import the data from the \"milk_quality_data.csv\" file and store it in a variable 'df'\n",
    "df=pd.read_csv(\"milk_quality_data.csv\")\n",
    "\n",
    "# Step 2: Display the number of rows and columns in the dataset\n",
    "print(df.shape)\n",
    "\n",
    "# Step 3: Display the first few rows of the dataset to get an overview\n",
    "df.head()"
   ]
  },
  {
   "cell_type": "code",
   "execution_count": 5,
   "id": "3091c7ac-cbdd-4d0c-93eb-082e218faac5",
   "metadata": {},
   "outputs": [
    {
     "data": {
      "text/plain": [
       "ph             0\n",
       "temperature    0\n",
       "taste          0\n",
       "odor           0\n",
       "fat            0\n",
       "turbidity      0\n",
       "colour         0\n",
       "grade          0\n",
       "dtype: int64"
      ]
     },
     "execution_count": 5,
     "metadata": {},
     "output_type": "execute_result"
    }
   ],
   "source": [
    "# Step 4: Check for any missing values in the dataset and handle them appropriately\n",
    "df.isna().sum()"
   ]
  },
  {
   "cell_type": "code",
   "execution_count": 6,
   "id": "ec1825ca-9c0a-4ad5-acf7-fdd623be1f0d",
   "metadata": {},
   "outputs": [
    {
     "data": {
      "text/html": [
       "<div>\n",
       "<style scoped>\n",
       "    .dataframe tbody tr th:only-of-type {\n",
       "        vertical-align: middle;\n",
       "    }\n",
       "\n",
       "    .dataframe tbody tr th {\n",
       "        vertical-align: top;\n",
       "    }\n",
       "\n",
       "    .dataframe thead th {\n",
       "        text-align: right;\n",
       "    }\n",
       "</style>\n",
       "<table border=\"1\" class=\"dataframe\">\n",
       "  <thead>\n",
       "    <tr style=\"text-align: right;\">\n",
       "      <th></th>\n",
       "      <th>ph</th>\n",
       "      <th>temperature</th>\n",
       "      <th>taste</th>\n",
       "      <th>odor</th>\n",
       "      <th>fat</th>\n",
       "      <th>turbidity</th>\n",
       "      <th>colour</th>\n",
       "      <th>grade</th>\n",
       "    </tr>\n",
       "  </thead>\n",
       "  <tbody>\n",
       "    <tr>\n",
       "      <th>0</th>\n",
       "      <td>6.6</td>\n",
       "      <td>35</td>\n",
       "      <td>1</td>\n",
       "      <td>0</td>\n",
       "      <td>1</td>\n",
       "      <td>0</td>\n",
       "      <td>254</td>\n",
       "      <td>2</td>\n",
       "    </tr>\n",
       "    <tr>\n",
       "      <th>1</th>\n",
       "      <td>6.6</td>\n",
       "      <td>36</td>\n",
       "      <td>0</td>\n",
       "      <td>1</td>\n",
       "      <td>0</td>\n",
       "      <td>1</td>\n",
       "      <td>253</td>\n",
       "      <td>2</td>\n",
       "    </tr>\n",
       "    <tr>\n",
       "      <th>2</th>\n",
       "      <td>8.5</td>\n",
       "      <td>70</td>\n",
       "      <td>1</td>\n",
       "      <td>1</td>\n",
       "      <td>1</td>\n",
       "      <td>1</td>\n",
       "      <td>246</td>\n",
       "      <td>0</td>\n",
       "    </tr>\n",
       "    <tr>\n",
       "      <th>3</th>\n",
       "      <td>9.5</td>\n",
       "      <td>34</td>\n",
       "      <td>1</td>\n",
       "      <td>1</td>\n",
       "      <td>0</td>\n",
       "      <td>1</td>\n",
       "      <td>255</td>\n",
       "      <td>0</td>\n",
       "    </tr>\n",
       "    <tr>\n",
       "      <th>4</th>\n",
       "      <td>6.6</td>\n",
       "      <td>37</td>\n",
       "      <td>0</td>\n",
       "      <td>0</td>\n",
       "      <td>0</td>\n",
       "      <td>0</td>\n",
       "      <td>255</td>\n",
       "      <td>1</td>\n",
       "    </tr>\n",
       "  </tbody>\n",
       "</table>\n",
       "</div>"
      ],
      "text/plain": [
       "    ph  temperature  taste  odor  fat  turbidity  colour  grade\n",
       "0  6.6           35      1     0    1          0     254      2\n",
       "1  6.6           36      0     1    0          1     253      2\n",
       "2  8.5           70      1     1    1          1     246      0\n",
       "3  9.5           34      1     1    0          1     255      0\n",
       "4  6.6           37      0     0    0          0     255      1"
      ]
     },
     "execution_count": 6,
     "metadata": {},
     "output_type": "execute_result"
    }
   ],
   "source": [
    "# Step 5: Encode the target variable 'grade' by mapping it to numbers ('low' = 0, 'medium' = 1, 'high' = 2)\n",
    "df['grade']=df['grade'].map({'low':0,'medium':1,'high':2})\n",
    "df.head()"
   ]
  },
  {
   "cell_type": "code",
   "execution_count": 7,
   "id": "b816c5ec-817e-405c-9f49-c5aab907d471",
   "metadata": {},
   "outputs": [
    {
     "data": {
      "image/png": "[encoded data removed]",
      "text/plain": [
       "<Figure size 640x480 with 1 Axes>"
      ]
     },
     "metadata": {},
     "output_type": "display_data"
    },
    {
     "data": {
      "image/png": "[encoded data removed]",
      "text/plain": [
       "<Figure size 640x480 with 1 Axes>"
      ]
     },
     "metadata": {},
     "output_type": "display_data"
    }
   ],
   "source": [
    "# Step 6: Visualize the distribution of key features ('ph', 'temperature') using histograms\n",
    "sns.histplot(data=df,x='ph',hue='grade')\n",
    "plt.show()\n",
    "sns.histplot(data=df,x='temperature',hue='grade')\n",
    "plt.show()"
   ]
  },
  {
   "cell_type": "markdown",
   "id": "f22526fe-53c1-4c78-a20c-6fd8bb10ef76",
   "metadata": {},
   "source": [
    "### Task 2: Model Training Using Basic Models\n",
    "\n",
    "1. Select the features `(ph, temperature, taste, odor, fat, turbidity, colour)` and the target variable `(grade)` for modeling.\n",
    "2. Split the data into training and test sets with a test size of 30%.\n",
    "3. Initialize and train a Logistic Regression model using the training data.\n",
    "4. Print the model's accuracy score on test data.\n",
    "5. Initialize and train a Decision Tree Classifier using the training data.\n",
    "6. Print the model's accuracy score on test data."
   ]
  },
  {
   "cell_type": "code",
   "execution_count": 8,
   "id": "31500889-ce4b-475c-9a67-d06d7b3c4243",
   "metadata": {},
   "outputs": [],
   "source": [
    "# Step 1: Select the features and target variable for modeling\n",
    "X=df.drop('grade',axis='columns')\n",
    "y=df['grade']\n",
    "\n",
    "# Step 2: Split the data into training and test sets with a test size of 30%\n",
    "xtr,xte,ytr,yte=train_test_split(X,y,test_size=0.3,random_state=42)\n"
   ]
  },
  {
   "cell_type": "code",
   "execution_count": 11,
   "id": "aca071d7-6f6f-4663-8e22-fcbe938eb01a",
   "metadata": {},
   "outputs": [
    {
     "name": "stdout",
     "output_type": "stream",
     "text": [
      "accuracy 0.6981132075471698\n"
     ]
    }
   ],
   "source": [
    "# Step 3: Initialize and train a Logistic Regression model using the training data\n",
    "log=LogisticRegression()\n",
    "log.fit(xtr,ytr)\n",
    "\n",
    "# Step 4: Print the model's accuracy score on test data.\n",
    "print('accuracy',log.score(xte,yte))"
   ]
  },
  {
   "cell_type": "code",
   "execution_count": 13,
   "id": "16dd5640-411a-4cd9-b0ce-e1430b14eba5",
   "metadata": {},
   "outputs": [
    {
     "name": "stdout",
     "output_type": "stream",
     "text": [
      "accuracy 0.9937106918238994\n"
     ]
    }
   ],
   "source": [
    "# Step 5: Initialize and train a Decision Tree Classifier using the training data\n",
    "tr=DecisionTreeClassifier()\n",
    "tr.fit(xtr,ytr)\n",
    "# Step 6: Print the model's accuracy score on test data.\n",
    "print('accuracy',tr.score(xte,yte))"
   ]
  },
  {
   "cell_type": "markdown",
   "id": "85ce56cf-1420-45d5-a691-d01ef9f6a302",
   "metadata": {},
   "source": [
    "### Task 3: Model Training Using Advanced Models\n",
    "\n",
    "1. Initialize and train a Gradient Boosting Classifier with 50 estimators using the training data.\n",
    "2. Print the model's accuracy score on test data.\n",
    "3. Initialize and train an XGBoost Classifier with 50 estimators using the training data.\n",
    "4. Print the model's accuracy score on test data."
   ]
  },
  {
   "cell_type": "code",
   "execution_count": 16,
   "id": "4ba77137-1cf3-48fc-b7d8-cc591120fdcc",
   "metadata": {},
   "outputs": [
    {
     "name": "stdout",
     "output_type": "stream",
     "text": [
      "accuracy 0.9905660377358491\n"
     ]
    }
   ],
   "source": [
    "# Step 1: Initialize and train a Gradient Boosting Classifier with 50 estimators using the training data\n",
    "gb=GradientBoostingClassifier(n_estimators=50)\n",
    "gb.fit(xtr,ytr)\n",
    "\n",
    "# Step 2: Print the model's accuracy score\n",
    "print('accuracy',gb.score(xte,yte))"
   ]
  },
  {
   "cell_type": "code",
   "execution_count": 17,
   "id": "b6744168-b89d-4326-ab25-2373744478ac",
   "metadata": {},
   "outputs": [
    {
     "name": "stdout",
     "output_type": "stream",
     "text": [
      "accuracy 0.9968553459119497\n"
     ]
    }
   ],
   "source": [
    "# Step 3: Initialize and train an XGBoost Classifier with 50 estimators using the training data\n",
    "xgb=XGBClassifier(n_estimators=50, use_label_encoder=False, eval_metric='mlogloss')\n",
    "xgb.fit(xtr,ytr)\n",
    "# Step 4: Print the model's accuracy score\n",
    "print('accuracy',xgb.score(xte,yte))"
   ]
  },
  {
   "cell_type": "markdown",
   "id": "e4e636f0-c6bf-468d-888b-8db65e8d5d94",
   "metadata": {},
   "source": [
    "### Task 4: Experiment with Hyperparameters in XGBoost\n",
    "\n",
    "1. Train the XGBoost model with the following parameters\n",
    "    - n_estimators=100\n",
    "    - max_depth=5\n",
    "    - learning_rate=0.1\n",
    "    - colsample_bytree=0.5.\n",
    "\n",
    "Learn about these parameters here: [XgboostClassifier Parameters](https://xgboost.readthedocs.io/en/stable/parameter.html)\n",
    "\n",
    "--------------------------------------------------------------------------------------------------------------------------------------------------------\n",
    "\n",
    "2. Evaluate the model's performance using accuracy score and print it.\n",
    "3. Print the classification report and confusion matrix for the model."
   ]
  },
  {
   "cell_type": "code",
   "execution_count": 20,
   "id": "6d2f8477-6402-4741-9d9b-fe73a59afe53",
   "metadata": {},
   "outputs": [
    {
     "name": "stdout",
     "output_type": "stream",
     "text": [
      "accuracy 0.9968553459119497\n"
     ]
    }
   ],
   "source": [
    "# Step 1: Train the XGBoost model with n_estimators=100, max_depth=5, learning_rate=0.1, colsample_bytree=0.5\n",
    "xgbh=XGBClassifier(n_estimators=100, use_label_encoder=False, eval_metric='mlogloss',max_depth=5,learning_rate=0.1,colsample_bytree=0.5)\n",
    "xgbh.fit(xtr,ytr)\n",
    "ypr=xgbh.predict(xte)\n",
    "# Step 2: Evaluate the model's performance using accuracy score and print it\n",
    "print('accuracy',xgbh.score(xte,yte))"
   ]
  },
  {
   "cell_type": "code",
   "execution_count": 21,
   "id": "ff771013-a90a-432c-82a2-29f6685a28ea",
   "metadata": {},
   "outputs": [
    {
     "name": "stdout",
     "output_type": "stream",
     "text": [
      "classification_report\n",
      ":               precision    recall  f1-score   support\n",
      "\n",
      "           0       1.00      0.99      1.00       115\n",
      "           1       0.99      1.00      1.00       127\n",
      "           2       1.00      1.00      1.00        76\n",
      "\n",
      "    accuracy                           1.00       318\n",
      "   macro avg       1.00      1.00      1.00       318\n",
      "weighted avg       1.00      1.00      1.00       318\n",
      "\n",
      "**************************************************\n",
      "confusion_matrix:\n",
      " [[114   1   0]\n",
      " [  0 127   0]\n",
      " [  0   0  76]]\n"
     ]
    }
   ],
   "source": [
    "# Step 3: Print the classification report and confusion matrix for the model\n",
    "print('classification_report\\n:',classification_report(yte,ypr))\n",
    "print('*'*50)\n",
    "print('confusion_matrix:\\n',confusion_matrix(yte,ypr))"
   ]
  }
 ],
 "metadata": {
  "kernelspec": {
   "display_name": "Python 3",
   "language": "python",
   "name": "python3"
  },
  "language_info": {
   "codemirror_mode": {
    "name": "ipython",
    "version": 3
   },
   "file_extension": ".py",
   "mimetype": "text/x-python",
   "name": "python",
   "nbconvert_exporter": "python",
   "pygments_lexer": "ipython3",
   "version": "3.12.4"
  }
 },
 "nbformat": 4,
 "nbformat_minor": 5
}
