{
 "cells": [
  {
   "cell_type": "markdown",
   "id": "30188e27-380f-42ea-86ef-579fd4c8b553",
   "metadata": {},
   "source": [
    "### Problem Statement\n",
    "\n",
    "You are a data scientist / AI engineer working on a classification problem to predict the likelihood of pet adoption. You have been provided with a dataset named **`\"pet_adoption.csv\"`**, which includes various parameters that affect the likelihood of pet adoption. The dataset comprises the following columns:\n",
    "\n",
    "- `pet_id:` Unique identifier for each pet.\n",
    "- `pet_type:` Type of pet (e.g., Dog, Cat, Bird, Rabbit).\n",
    "- `breed:` Specific breed of the pet.\n",
    "- `age_months:` Age of the pet in months.\n",
    "- `color:` Color of the pet.\n",
    "- `size:` Size category of the pet (Small, Medium, Large).\n",
    "- `weight_kg:` Weight of the pet in kilograms.\n",
    "- `vaccinated:` Vaccination status of the pet (0 - Not vaccinated, 1 - Vaccinated).\n",
    "- `health_condition:` Health condition of the pet (0 - Healthy, 1 - Medical condition).\n",
    "- `timein_shelter_days:` Duration the pet has been in the shelter (days).\n",
    "- `adoption_fee:` Adoption fee charged for the pet (in dollars).\n",
    "- `previous_owner:` Whether the pet had a previous owner (0 - No, 1 - Yes).\n",
    "- `adoption_likelihood:` Likelihood of the pet being adopted (0 - Unlikely, 1 - Likely).\n",
    "\n",
    "Your task is to use this dataset to build and evaluate machine learning models to predict the likelihood of pet adoption based on the given parameters. You will perform data preprocessing, exploratory data analysis, and model training using a Decision Tree algorithm.\n",
    "\n",
    "**Dataset credits:** Rabie El Kharoua (https://www.kaggle.com/datasets/rabieelkharoua/predict-pet-adoption-status-dataset)"
   ]
  },
  {
   "cell_type": "markdown",
   "id": "5af744b9-6650-4a48-94c2-d47024feb818",
   "metadata": {},
   "source": [
    "**Import Necessary Libraries**"
   ]
  },
  {
   "cell_type": "code",
   "execution_count": 3,
   "id": "cc480c5e-df8c-46ea-9f0b-ff91b97b55ac",
   "metadata": {},
   "outputs": [],
   "source": [
    "# Import Necessary Libraries\n",
    "import warnings\n",
    "warnings.filterwarnings(\"ignore\")\n",
    "import pandas as pd\n",
    "from sklearn.model_selection import train_test_split\n",
    "from sklearn.preprocessing import StandardScaler, MinMaxScaler\n",
    "from sklearn.compose import ColumnTransformer\n",
    "from sklearn.pipeline import Pipeline\n",
    "from sklearn.tree import DecisionTreeClassifier, export_text\n",
    "from sklearn.metrics import classification_report, confusion_matrix\n",
    "import matplotlib.pyplot as plt\n",
    "import seaborn as sns"
   ]
  },
  {
   "cell_type": "markdown",
   "id": "877ef6a6-f38e-4e9b-a4a7-73ef65b9f98f",
   "metadata": {},
   "source": [
    "### Task 1: Data Preparation and Exploration\n",
    "\n",
    "1. Import the data from the `\"pet_adoption_data.csv\"` file and store it in a variable df.\n",
    "2. Display the number of rows and columns in the dataset.\n",
    "3. Display the first few rows of the dataset to get an overview.\n",
    "4. Drop the columns that do not add much value to the analysis `('pet_id')`.\n",
    "5. Visualize the distribution of the target variable 'adoption_likelihood' using a bar chart.\n",
    "6. Visualize the distribution of 'age_months' and 'adoption_fee' using histograms."
   ]
  },
  {
   "cell_type": "code",
   "execution_count": 4,
   "id": "b6e7d8f6-74d5-4d40-81ea-e892d32639bf",
   "metadata": {},
   "outputs": [
    {
     "name": "stdout",
     "output_type": "stream",
     "text": [
      "Number of rows and columns: (2007, 13)\n",
      "First few rows of the dataset:\n"
     ]
    },
    {
     "data": {
      "text/html": [
       "<div>\n",
       "<style scoped>\n",
       "    .dataframe tbody tr th:only-of-type {\n",
       "        vertical-align: middle;\n",
       "    }\n",
       "\n",
       "    .dataframe tbody tr th {\n",
       "        vertical-align: top;\n",
       "    }\n",
       "\n",
       "    .dataframe thead th {\n",
       "        text-align: right;\n",
       "    }\n",
       "</style>\n",
       "<table border=\"1\" class=\"dataframe\">\n",
       "  <thead>\n",
       "    <tr style=\"text-align: right;\">\n",
       "      <th></th>\n",
       "      <th>pet_id</th>\n",
       "      <th>pet_type</th>\n",
       "      <th>breed</th>\n",
       "      <th>age_months</th>\n",
       "      <th>color</th>\n",
       "      <th>size</th>\n",
       "      <th>weight_kg</th>\n",
       "      <th>vaccinated</th>\n",
       "      <th>health_condition</th>\n",
       "      <th>timein_shelter_days</th>\n",
       "      <th>adoption_fee</th>\n",
       "      <th>previous_owner</th>\n",
       "      <th>adoption_likelihood</th>\n",
       "    </tr>\n",
       "  </thead>\n",
       "  <tbody>\n",
       "    <tr>\n",
       "      <th>0</th>\n",
       "      <td>500</td>\n",
       "      <td>Bird</td>\n",
       "      <td>Parakeet</td>\n",
       "      <td>131</td>\n",
       "      <td>Orange</td>\n",
       "      <td>Large</td>\n",
       "      <td>5.039768</td>\n",
       "      <td>1</td>\n",
       "      <td>0</td>\n",
       "      <td>27</td>\n",
       "      <td>140</td>\n",
       "      <td>0</td>\n",
       "      <td>0</td>\n",
       "    </tr>\n",
       "    <tr>\n",
       "      <th>1</th>\n",
       "      <td>501</td>\n",
       "      <td>Rabbit</td>\n",
       "      <td>Rabbit</td>\n",
       "      <td>73</td>\n",
       "      <td>White</td>\n",
       "      <td>Large</td>\n",
       "      <td>16.086727</td>\n",
       "      <td>0</td>\n",
       "      <td>0</td>\n",
       "      <td>8</td>\n",
       "      <td>235</td>\n",
       "      <td>0</td>\n",
       "      <td>0</td>\n",
       "    </tr>\n",
       "    <tr>\n",
       "      <th>2</th>\n",
       "      <td>502</td>\n",
       "      <td>Dog</td>\n",
       "      <td>Golden Retriever</td>\n",
       "      <td>136</td>\n",
       "      <td>Orange</td>\n",
       "      <td>Medium</td>\n",
       "      <td>2.076286</td>\n",
       "      <td>0</td>\n",
       "      <td>0</td>\n",
       "      <td>85</td>\n",
       "      <td>385</td>\n",
       "      <td>0</td>\n",
       "      <td>0</td>\n",
       "    </tr>\n",
       "    <tr>\n",
       "      <th>3</th>\n",
       "      <td>503</td>\n",
       "      <td>Bird</td>\n",
       "      <td>Parakeet</td>\n",
       "      <td>97</td>\n",
       "      <td>White</td>\n",
       "      <td>Small</td>\n",
       "      <td>3.339423</td>\n",
       "      <td>0</td>\n",
       "      <td>0</td>\n",
       "      <td>61</td>\n",
       "      <td>217</td>\n",
       "      <td>1</td>\n",
       "      <td>0</td>\n",
       "    </tr>\n",
       "    <tr>\n",
       "      <th>4</th>\n",
       "      <td>504</td>\n",
       "      <td>Rabbit</td>\n",
       "      <td>Rabbit</td>\n",
       "      <td>123</td>\n",
       "      <td>Gray</td>\n",
       "      <td>Large</td>\n",
       "      <td>20.498100</td>\n",
       "      <td>0</td>\n",
       "      <td>0</td>\n",
       "      <td>28</td>\n",
       "      <td>14</td>\n",
       "      <td>1</td>\n",
       "      <td>0</td>\n",
       "    </tr>\n",
       "  </tbody>\n",
       "</table>\n",
       "</div>"
      ],
      "text/plain": [
       "   pet_id pet_type             breed  age_months   color    size  weight_kg  \\\n",
       "0     500     Bird          Parakeet         131  Orange   Large   5.039768   \n",
       "1     501   Rabbit            Rabbit          73   White   Large  16.086727   \n",
       "2     502      Dog  Golden Retriever         136  Orange  Medium   2.076286   \n",
       "3     503     Bird          Parakeet          97   White   Small   3.339423   \n",
       "4     504   Rabbit            Rabbit         123    Gray   Large  20.498100   \n",
       "\n",
       "   vaccinated  health_condition  timein_shelter_days  adoption_fee  \\\n",
       "0           1                 0                   27           140   \n",
       "1           0                 0                    8           235   \n",
       "2           0                 0                   85           385   \n",
       "3           0                 0                   61           217   \n",
       "4           0                 0                   28            14   \n",
       "\n",
       "   previous_owner  adoption_likelihood  \n",
       "0               0                    0  \n",
       "1               0                    0  \n",
       "2               0                    0  \n",
       "3               1                    0  \n",
       "4               1                    0  "
      ]
     },
     "execution_count": 4,
     "metadata": {},
     "output_type": "execute_result"
    }
   ],
   "source": [
    "# Step 1: Import the data from the \"pet_adoption.csv\" file\n",
    "df = pd.read_csv(\"pet_adoption_data.csv\")\n",
    "\n",
    "# Step 2: Display the number of rows and columns in the dataset\n",
    "print(\"Number of rows and columns:\", df.shape)\n",
    "\n",
    "# Step 3: Display the first few rows of the dataset to get an overview\n",
    "print(\"First few rows of the dataset:\")\n",
    "df.head()"
   ]
  },
  {
   "cell_type": "code",
   "execution_count": 5,
   "id": "9baf93a7-dcb8-4db5-ac30-ea0a1d170dc7",
   "metadata": {},
   "outputs": [],
   "source": [
    "# Step 4: Drop the columns that do not add much value to the analysis\n",
    "df.drop(['pet_id'], axis=1, inplace=True)\n"
   ]
  },
  {
   "cell_type": "code",
   "execution_count": 6,
   "id": "8f16abf0-28d8-49fe-93c8-dc88aff01d81",
   "metadata": {},
   "outputs": [
    {
     "data": {
      "image/png": "[encoded data removed]",
      "text/plain": [
       "<Figure size 640x480 with 1 Axes>"
      ]
     },
     "metadata": {},
     "output_type": "display_data"
    }
   ],
   "source": [
    "# Step 5: Visualize the distribution of the target variable 'adoption_likelihood' using a bar chart\n",
    "df['adoption_likelihood'].value_counts().plot(kind='bar')\n",
    "plt.title('Distribution of Adoption Likelihood')\n",
    "plt.xlabel('Adoption Likelihood')\n",
    "plt.ylabel('Count')\n",
    "plt.show()"
   ]
  },
  {
   "cell_type": "code",
   "execution_count": 7,
   "id": "5079be20-8082-41b0-85da-16834660a1de",
   "metadata": {},
   "outputs": [
    {
     "data": {
      "image/png": "[encoded data removed]",
      "text/plain": [
       "<Figure size 640x480 with 1 Axes>"
      ]
     },
     "metadata": {},
     "output_type": "display_data"
    }
   ],
   "source": [
    "# Step 6: Visualize the distribution of 'age_months' using a histogram\n",
    "df['age_months'].plot(kind='hist', bins=20)\n",
    "plt.title('Distribution of Age')\n",
    "plt.xlabel('Age (months)')\n",
    "plt.show()"
   ]
  },
  {
   "cell_type": "code",
   "execution_count": 8,
   "id": "aa26c45b-d1d3-4e1e-948a-4bb1b1396106",
   "metadata": {},
   "outputs": [
    {
     "data": {
      "image/png": "[encoded data removed]",
      "text/plain": [
       "<Figure size 640x480 with 1 Axes>"
      ]
     },
     "metadata": {},
     "output_type": "display_data"
    }
   ],
   "source": [
    "\n",
    "# Step 7: Visualize the distribution of 'adoption_fee' using a histogram\n",
    "df['adoption_fee'].plot(kind='hist', bins=20)\n",
    "plt.title('Distribution of Adoption Fee')\n",
    "plt.xlabel('Adoption Fee ($)')\n",
    "plt.show()"
   ]
  },
  {
   "cell_type": "markdown",
   "id": "a0082702-ac21-4eea-9bcf-94775f72b647",
   "metadata": {},
   "source": [
    "### Task 2: Data Encoding and Scaling\n",
    "\n",
    "1. Encode the categorical variables:\n",
    "    - `'size'`: Encode by mapping it to numbers (e.g., Small=1, Medium=2, Large=3).\n",
    "    - `'color'`, `'pet_type'`, `'breed'`: Apply one-hot encoding.\n",
    "<br></br>\n",
    "3. Scale the numerical features:\n",
    "    - `'weight_kg'`: MinMax scaling.\n",
    "    - `'adoption_fee'`: Standard scaling.\n",
    "<br></br>\n",
    "4. Display the first few rows of the updated dataset."
   ]
  },
  {
   "cell_type": "code",
   "execution_count": 9,
   "id": "80f3ba5f-1ba6-4b2c-b7b3-d2994138d63c",
   "metadata": {},
   "outputs": [],
   "source": [
    "# Step 1: Encode the categorical variables\n",
    "\n",
    "# Encode 'size' by mapping it to numbers (e.g., Small=1, Medium=2, Large=3).\n",
    "df['size'] = df['size'].map({'Small': 1, 'Medium': 2, 'Large': 3})\n",
    "\n",
    "# Encode 'color', 'pet_type' and 'breed' using one-hot encoding\n",
    "df = pd.get_dummies(df, columns=['color', 'pet_type', 'breed'], drop_first=True)"
   ]
  },
  {
   "cell_type": "code",
   "execution_count": 10,
   "id": "fdfbf20a-758f-4b8f-8e73-136a33d26af4",
   "metadata": {},
   "outputs": [],
   "source": [
    "# Step 2: Scale the numerical features\n",
    "\n",
    "# Scale 'weight_kg' using MinMaxScaler\n",
    "scaler = MinMaxScaler()\n",
    "df['weight_kg'] = scaler.fit_transform(df[['weight_kg']])\n",
    "\n",
    "\n",
    "# Scale 'adoption_fee' using StandardScaler\n",
    "scaler = StandardScaler()\n",
    "df['adoption_fee'] = scaler.fit_transform(df[['adoption_fee']])"
   ]
  },
  {
   "cell_type": "code",
   "execution_count": 11,
   "id": "5de2469a-e537-4ae9-834a-2b9fadd69269",
   "metadata": {},
   "outputs": [
    {
     "data": {
      "text/html": [
       "<div>\n",
       "<style scoped>\n",
       "    .dataframe tbody tr th:only-of-type {\n",
       "        vertical-align: middle;\n",
       "    }\n",
       "\n",
       "    .dataframe tbody tr th {\n",
       "        vertical-align: top;\n",
       "    }\n",
       "\n",
       "    .dataframe thead th {\n",
       "        text-align: right;\n",
       "    }\n",
       "</style>\n",
       "<table border=\"1\" class=\"dataframe\">\n",
       "  <thead>\n",
       "    <tr style=\"text-align: right;\">\n",
       "      <th></th>\n",
       "      <th>age_months</th>\n",
       "      <th>size</th>\n",
       "      <th>weight_kg</th>\n",
       "      <th>vaccinated</th>\n",
       "      <th>health_condition</th>\n",
       "      <th>timein_shelter_days</th>\n",
       "      <th>adoption_fee</th>\n",
       "      <th>previous_owner</th>\n",
       "      <th>adoption_likelihood</th>\n",
       "      <th>color_Brown</th>\n",
       "      <th>...</th>\n",
       "      <th>color_White</th>\n",
       "      <th>pet_type_Cat</th>\n",
       "      <th>pet_type_Dog</th>\n",
       "      <th>pet_type_Rabbit</th>\n",
       "      <th>breed_Labrador</th>\n",
       "      <th>breed_Parakeet</th>\n",
       "      <th>breed_Persian</th>\n",
       "      <th>breed_Poodle</th>\n",
       "      <th>breed_Rabbit</th>\n",
       "      <th>breed_Siamese</th>\n",
       "    </tr>\n",
       "  </thead>\n",
       "  <tbody>\n",
       "    <tr>\n",
       "      <th>0</th>\n",
       "      <td>131</td>\n",
       "      <td>3</td>\n",
       "      <td>0.138783</td>\n",
       "      <td>1</td>\n",
       "      <td>0</td>\n",
       "      <td>27</td>\n",
       "      <td>-0.764025</td>\n",
       "      <td>0</td>\n",
       "      <td>0</td>\n",
       "      <td>False</td>\n",
       "      <td>...</td>\n",
       "      <td>False</td>\n",
       "      <td>False</td>\n",
       "      <td>False</td>\n",
       "      <td>False</td>\n",
       "      <td>False</td>\n",
       "      <td>True</td>\n",
       "      <td>False</td>\n",
       "      <td>False</td>\n",
       "      <td>False</td>\n",
       "      <td>False</td>\n",
       "    </tr>\n",
       "    <tr>\n",
       "      <th>1</th>\n",
       "      <td>73</td>\n",
       "      <td>3</td>\n",
       "      <td>0.520009</td>\n",
       "      <td>0</td>\n",
       "      <td>0</td>\n",
       "      <td>8</td>\n",
       "      <td>-0.098998</td>\n",
       "      <td>0</td>\n",
       "      <td>0</td>\n",
       "      <td>False</td>\n",
       "      <td>...</td>\n",
       "      <td>True</td>\n",
       "      <td>False</td>\n",
       "      <td>False</td>\n",
       "      <td>True</td>\n",
       "      <td>False</td>\n",
       "      <td>False</td>\n",
       "      <td>False</td>\n",
       "      <td>False</td>\n",
       "      <td>True</td>\n",
       "      <td>False</td>\n",
       "    </tr>\n",
       "    <tr>\n",
       "      <th>2</th>\n",
       "      <td>136</td>\n",
       "      <td>2</td>\n",
       "      <td>0.036514</td>\n",
       "      <td>0</td>\n",
       "      <td>0</td>\n",
       "      <td>85</td>\n",
       "      <td>0.951044</td>\n",
       "      <td>0</td>\n",
       "      <td>0</td>\n",
       "      <td>False</td>\n",
       "      <td>...</td>\n",
       "      <td>False</td>\n",
       "      <td>False</td>\n",
       "      <td>True</td>\n",
       "      <td>False</td>\n",
       "      <td>False</td>\n",
       "      <td>False</td>\n",
       "      <td>False</td>\n",
       "      <td>False</td>\n",
       "      <td>False</td>\n",
       "      <td>False</td>\n",
       "    </tr>\n",
       "    <tr>\n",
       "      <th>3</th>\n",
       "      <td>97</td>\n",
       "      <td>1</td>\n",
       "      <td>0.080105</td>\n",
       "      <td>0</td>\n",
       "      <td>0</td>\n",
       "      <td>61</td>\n",
       "      <td>-0.225003</td>\n",
       "      <td>1</td>\n",
       "      <td>0</td>\n",
       "      <td>False</td>\n",
       "      <td>...</td>\n",
       "      <td>True</td>\n",
       "      <td>False</td>\n",
       "      <td>False</td>\n",
       "      <td>False</td>\n",
       "      <td>False</td>\n",
       "      <td>True</td>\n",
       "      <td>False</td>\n",
       "      <td>False</td>\n",
       "      <td>False</td>\n",
       "      <td>False</td>\n",
       "    </tr>\n",
       "    <tr>\n",
       "      <th>4</th>\n",
       "      <td>123</td>\n",
       "      <td>3</td>\n",
       "      <td>0.672244</td>\n",
       "      <td>0</td>\n",
       "      <td>0</td>\n",
       "      <td>28</td>\n",
       "      <td>-1.646060</td>\n",
       "      <td>1</td>\n",
       "      <td>0</td>\n",
       "      <td>False</td>\n",
       "      <td>...</td>\n",
       "      <td>False</td>\n",
       "      <td>False</td>\n",
       "      <td>False</td>\n",
       "      <td>True</td>\n",
       "      <td>False</td>\n",
       "      <td>False</td>\n",
       "      <td>False</td>\n",
       "      <td>False</td>\n",
       "      <td>True</td>\n",
       "      <td>False</td>\n",
       "    </tr>\n",
       "  </tbody>\n",
       "</table>\n",
       "<p>5 rows × 22 columns</p>\n",
       "</div>"
      ],
      "text/plain": [
       "   age_months  size  weight_kg  vaccinated  health_condition  \\\n",
       "0         131     3   0.138783           1                 0   \n",
       "1          73     3   0.520009           0                 0   \n",
       "2         136     2   0.036514           0                 0   \n",
       "3          97     1   0.080105           0                 0   \n",
       "4         123     3   0.672244           0                 0   \n",
       "\n",
       "   timein_shelter_days  adoption_fee  previous_owner  adoption_likelihood  \\\n",
       "0                   27     -0.764025               0                    0   \n",
       "1                    8     -0.098998               0                    0   \n",
       "2                   85      0.951044               0                    0   \n",
       "3                   61     -0.225003               1                    0   \n",
       "4                   28     -1.646060               1                    0   \n",
       "\n",
       "   color_Brown  ...  color_White  pet_type_Cat  pet_type_Dog  pet_type_Rabbit  \\\n",
       "0        False  ...        False         False         False            False   \n",
       "1        False  ...         True         False         False             True   \n",
       "2        False  ...        False         False          True            False   \n",
       "3        False  ...         True         False         False            False   \n",
       "4        False  ...        False         False         False             True   \n",
       "\n",
       "   breed_Labrador  breed_Parakeet  breed_Persian  breed_Poodle  breed_Rabbit  \\\n",
       "0           False            True          False         False         False   \n",
       "1           False           False          False         False          True   \n",
       "2           False           False          False         False         False   \n",
       "3           False            True          False         False         False   \n",
       "4           False           False          False         False          True   \n",
       "\n",
       "   breed_Siamese  \n",
       "0          False  \n",
       "1          False  \n",
       "2          False  \n",
       "3          False  \n",
       "4          False  \n",
       "\n",
       "[5 rows x 22 columns]"
      ]
     },
     "execution_count": 11,
     "metadata": {},
     "output_type": "execute_result"
    }
   ],
   "source": [
    "# step3: Display the first few rows of the updated dataset.\n",
    "\n",
    "df.head()"
   ]
  },
  {
   "cell_type": "markdown",
   "id": "7f3a1cf3-6e52-42f1-976c-1b20d0a021c5",
   "metadata": {},
   "source": [
    "### Task 3: Model Training Using Decision Tree\n",
    "\n",
    "1. Select the features and the target variable `('adoption_likelihood')` for modeling.\n",
    "2. Split the data into training and test sets with a test size of 30%.\n",
    "3. Initialize and train a Decision Tree Classifier using the training data.\n",
    "4. Print the model's accuracy score on the test data.\n",
    "5. Make predictions on the test set.\n",
    "6. Evaluate the model using a classification report and confusion matrix.\n",
    "7. Visualize the confusion matrix.\n",
    "8. Visualize the decision tree structure."
   ]
  },
  {
   "cell_type": "code",
   "execution_count": 12,
   "id": "d90062c9-7b5a-4e8e-8cfa-ac8ff7ee8034",
   "metadata": {},
   "outputs": [],
   "source": [
    "# Step 1: Select the features and the target variable for modeling\n",
    "X = df.drop('adoption_likelihood', axis=1)\n",
    "y = df['adoption_likelihood']\n",
    "\n",
    "# Step 2: Split the data into training and test sets with a test size of 30%\n",
    "X_train, X_test, y_train, y_test = train_test_split(X, y, test_size=0.3, random_state=42)\n"
   ]
  },
  {
   "cell_type": "code",
   "execution_count": 13,
   "id": "39da5939-3d8a-4bb0-8aa7-24b11c22122e",
   "metadata": {},
   "outputs": [
    {
     "name": "stdout",
     "output_type": "stream",
     "text": [
      "Model Accuracy on Test Data: 0.8524046434494196\n"
     ]
    }
   ],
   "source": [
    "# Step 3: Initialize and train a Decision Tree Classifier using the training data\n",
    "model = DecisionTreeClassifier()\n",
    "model.fit(X_train, y_train)\n",
    "\n",
    "# Step 4: Print the model's accuracy score on the test data\n",
    "print(\"Model Accuracy on Test Data:\", model.score(X_test, y_test))\n"
   ]
  },
  {
   "cell_type": "code",
   "execution_count": 14,
   "id": "42e0eb42-dd5e-4867-9a96-bdb9b5e7b467",
   "metadata": {},
   "outputs": [
    {
     "name": "stdout",
     "output_type": "stream",
     "text": [
      "              precision    recall  f1-score   support\n",
      "\n",
      "           0       0.91      0.86      0.89       403\n",
      "           1       0.75      0.83      0.79       200\n",
      "\n",
      "    accuracy                           0.85       603\n",
      "   macro avg       0.83      0.85      0.84       603\n",
      "weighted avg       0.86      0.85      0.85       603\n",
      "\n"
     ]
    }
   ],
   "source": [
    "# Step 5: Make predictions on the test set\n",
    "y_pred = model.predict(X_test)\n",
    "\n",
    "# Step 6: Evaluate the model using a classification report and confusion matrix\n",
    "print(classification_report(y_test, y_pred))"
   ]
  },
  {
   "cell_type": "code",
   "execution_count": 15,
   "id": "2a35d1df-ef09-4ff0-b9b9-378aa1ac06d6",
   "metadata": {},
   "outputs": [
    {
     "data": {
      "image/png": "[encoded data removed]",
      "text/plain": [
       "<Figure size 640x480 with 2 Axes>"
      ]
     },
     "metadata": {},
     "output_type": "display_data"
    }
   ],
   "source": [
    "# Step 7: Visualize the confusion matrix\n",
    "cm = confusion_matrix(y_test, y_pred)\n",
    "sns.heatmap(cm, annot=True, fmt='d', xticklabels=['Unlikely', 'Likely'], yticklabels=['Unlikely', 'Likely'])\n",
    "plt.xlabel('Predicted')\n",
    "plt.ylabel('True')\n",
    "plt.title('Confusion Matrix')\n",
    "plt.show()\n"
   ]
  },
  {
   "cell_type": "markdown",
   "id": "c6940e04-b43f-4347-881b-d1d12caa4aab",
   "metadata": {},
   "source": [
    "### Task 4: Experiment with Hyperparameters in Decision Tree\n",
    "\n",
    "1. Train the Decision Tree model with the following parameters:\n",
    "   - criterion='entropy'\n",
    "   - max_depth=5\n",
    "   - min_samples_split=10\n",
    "   - min_samples_leaf=5\n",
    "\n",
    "Learn about these parameters here: [DecisionTreeClassifier Parameters](https://scikit-learn.org/stable/modules/generated/sklearn.tree.DecisionTreeClassifier.html)\n",
    "\n",
    "--------------------------------------------------------------------------------------------------------------------------------------------------------\n",
    "\n",
    "\n",
    "2. Print the model's accuracy score on the test data.\n",
    "3. Evaluate the model using a classification report and confusion matrix.\n",
    "4. Visualize the confusion matrix.\n",
    "5. Visualize the decision tree structure."
   ]
  },
  {
   "cell_type": "code",
   "execution_count": 19,
   "id": "b21469b3-06af-4e11-a2b6-27cc3817179a",
   "metadata": {},
   "outputs": [
    {
     "name": "stdout",
     "output_type": "stream",
     "text": [
      "Custom Model Accuracy on Test Data: 0.9054726368159204\n",
      "              precision    recall  f1-score   support\n",
      "\n",
      "           0       0.91      0.95      0.93       403\n",
      "           1       0.90      0.81      0.85       200\n",
      "\n",
      "    accuracy                           0.91       603\n",
      "   macro avg       0.90      0.88      0.89       603\n",
      "weighted avg       0.91      0.91      0.90       603\n",
      "\n"
     ]
    }
   ],
   "source": [
    "# Step 1: Train the Decision Tree model with specified hyperparameters\n",
    "model_custom = DecisionTreeClassifier(\n",
    "    criterion='entropy',\n",
    "    max_depth=5,\n",
    "    min_samples_split=10,\n",
    "    min_samples_leaf=5\n",
    ")\n",
    "model_custom.fit(X_train, y_train)\n",
    "\n",
    "# Step 2: Print the model's accuracy score on the test data\n",
    "print(\"Custom Model Accuracy on Test Data:\", model_custom.score(X_test, y_test))\n",
    "\n",
    "# Step 3: Make predictions on the test set\n",
    "y_pred_custom = model_custom.predict(X_test)\n",
    "\n",
    "# Step 4: Evaluate the model using a classification report and confusion matrix\n",
    "print(classification_report(y_test, y_pred_custom))"
   ]
  },
  {
   "cell_type": "code",
   "execution_count": 17,
   "id": "79cc60af-815f-4330-9184-2ab580ff6135",
   "metadata": {},
   "outputs": [
    {
     "data": {
      "image/png": "[encoded data removed]",
      "text/plain": [
       "<Figure size 640x480 with 2 Axes>"
      ]
     },
     "metadata": {},
     "output_type": "display_data"
    }
   ],
   "source": [
    "# Step 5: Visualize the confusion matrix\n",
    "cm = confusion_matrix(y_test, y_pred_custom)\n",
    "sns.heatmap(cm, annot=True, fmt='d', xticklabels=['Unlikely', 'Likely'], yticklabels=['Unlikely', 'Likely'])\n",
    "plt.xlabel('Predicted')\n",
    "plt.ylabel('True')\n",
    "plt.title('Confusion Matrix')\n",
    "plt.show()\n"
   ]
  },
  {
   "cell_type": "code",
   "execution_count": 18,
   "id": "0051a80a-96ab-4de3-98b6-9de91dcc48a4",
   "metadata": {},
   "outputs": [
    {
     "name": "stdout",
     "output_type": "stream",
     "text": [
      "|--- vaccinated <= 0.50\n",
      "|   |--- age_months <= 34.50\n",
      "|   |   |--- size <= 1.50\n",
      "|   |   |   |--- age_months <= 21.50\n",
      "|   |   |   |   |--- class: 0\n",
      "|   |   |   |--- age_months >  21.50\n",
      "|   |   |   |   |--- class: 0\n",
      "|   |   |--- size >  1.50\n",
      "|   |   |   |--- size <= 2.50\n",
      "|   |   |   |   |--- age_months <= 23.00\n",
      "|   |   |   |   |   |--- class: 1\n",
      "|   |   |   |   |--- age_months >  23.00\n",
      "|   |   |   |   |   |--- class: 0\n",
      "|   |   |   |--- size >  2.50\n",
      "|   |   |   |   |--- adoption_fee <= -0.49\n",
      "|   |   |   |   |   |--- class: 0\n",
      "|   |   |   |   |--- adoption_fee >  -0.49\n",
      "|   |   |   |   |   |--- class: 0\n",
      "|   |--- age_months >  34.50\n",
      "|   |   |--- pet_type_Dog <= 0.50\n",
      "|   |   |   |--- timein_shelter_days <= 34.50\n",
      "|   |   |   |   |--- class: 0\n",
      "|   |   |   |--- timein_shelter_days >  34.50\n",
      "|   |   |   |   |--- color_Brown <= 0.50\n",
      "|   |   |   |   |   |--- class: 0\n",
      "|   |   |   |   |--- color_Brown >  0.50\n",
      "|   |   |   |   |   |--- class: 0\n",
      "|   |   |--- pet_type_Dog >  0.50\n",
      "|   |   |   |--- size <= 2.50\n",
      "|   |   |   |   |--- timein_shelter_days <= 27.50\n",
      "|   |   |   |   |   |--- class: 0\n",
      "|   |   |   |   |--- timein_shelter_days >  27.50\n",
      "|   |   |   |   |   |--- class: 0\n",
      "|   |   |   |--- size >  2.50\n",
      "|   |   |   |   |--- age_months <= 158.50\n",
      "|   |   |   |   |   |--- class: 0\n",
      "|   |   |   |   |--- age_months >  158.50\n",
      "|   |   |   |   |   |--- class: 0\n",
      "|--- vaccinated >  0.50\n",
      "|   |--- health_condition <= 0.50\n",
      "|   |   |--- age_months <= 23.50\n",
      "|   |   |   |--- weight_kg <= 0.48\n",
      "|   |   |   |   |--- weight_kg <= 0.36\n",
      "|   |   |   |   |   |--- class: 1\n",
      "|   |   |   |   |--- weight_kg >  0.36\n",
      "|   |   |   |   |   |--- class: 1\n",
      "|   |   |   |--- weight_kg >  0.48\n",
      "|   |   |   |   |--- class: 1\n",
      "|   |   |--- age_months >  23.50\n",
      "|   |   |   |--- size <= 2.50\n",
      "|   |   |   |   |--- size <= 1.50\n",
      "|   |   |   |   |   |--- class: 0\n",
      "|   |   |   |   |--- size >  1.50\n",
      "|   |   |   |   |   |--- class: 1\n",
      "|   |   |   |--- size >  2.50\n",
      "|   |   |   |   |--- breed_Labrador <= 0.50\n",
      "|   |   |   |   |   |--- class: 0\n",
      "|   |   |   |   |--- breed_Labrador >  0.50\n",
      "|   |   |   |   |   |--- class: 1\n",
      "|   |--- health_condition >  0.50\n",
      "|   |   |--- age_months <= 23.00\n",
      "|   |   |   |--- weight_kg <= 0.64\n",
      "|   |   |   |   |--- timein_shelter_days <= 50.00\n",
      "|   |   |   |   |   |--- class: 0\n",
      "|   |   |   |   |--- timein_shelter_days >  50.00\n",
      "|   |   |   |   |   |--- class: 0\n",
      "|   |   |   |--- weight_kg >  0.64\n",
      "|   |   |   |   |--- class: 1\n",
      "|   |   |--- age_months >  23.00\n",
      "|   |   |   |--- weight_kg <= 0.80\n",
      "|   |   |   |   |--- adoption_fee <= -0.59\n",
      "|   |   |   |   |   |--- class: 0\n",
      "|   |   |   |   |--- adoption_fee >  -0.59\n",
      "|   |   |   |   |   |--- class: 0\n",
      "|   |   |   |--- weight_kg >  0.80\n",
      "|   |   |   |   |--- timein_shelter_days <= 24.00\n",
      "|   |   |   |   |   |--- class: 0\n",
      "|   |   |   |   |--- timein_shelter_days >  24.00\n",
      "|   |   |   |   |   |--- class: 0\n",
      "\n"
     ]
    }
   ],
   "source": [
    "# Step 6: Visualize the decision tree\n",
    "print(export_text(model_custom, feature_names=list(X.columns)))"
   ]
  },
  {
   "cell_type": "markdown",
   "id": "874150f2-daf3-4cb5-a9b0-40a1f3153c9f",
   "metadata": {},
   "source": [
    "### Conclusion\n",
    "\n",
    "**Decision Tree Classifier (Default Parameters):**\n",
    "- Accuracy: 0.86\n",
    "- Provides a good baseline with balanced precision and recall for both classes.\n",
    "\n",
    "**Custom Decision Tree Classifier (Specified Hyperparameters):**\n",
    "- Accuracy: 0.91\n",
    "- Improved performance with better precision, recall, and F1-score for the 'Likely' adoption class.\n",
    "\n",
    "Tuning hyperparameters significantly enhances the model's predictive power, demonstrating the value of adjusting parameters to capture complex patterns in the data. The decision tree model, especially with fine-tuning, proves to be effective for predicting pet adoption likelihood."
   ]
  }
 ],
 "metadata": {
  "kernelspec": {
   "display_name": "Python 3",
   "language": "python",
   "name": "python3"
  },
  "language_info": {
   "codemirror_mode": {
    "name": "ipython",
    "version": 3
   },
   "file_extension": ".py",
   "mimetype": "text/x-python",
   "name": "python",
   "nbconvert_exporter": "python",
   "pygments_lexer": "ipython3",
   "version": "3.12.4"
  }
 },
 "nbformat": 4,
 "nbformat_minor": 5
}
