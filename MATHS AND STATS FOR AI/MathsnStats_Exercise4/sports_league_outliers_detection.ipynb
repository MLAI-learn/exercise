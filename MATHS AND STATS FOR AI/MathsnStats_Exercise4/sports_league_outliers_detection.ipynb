{
 "cells": [
  {
   "cell_type": "markdown",
   "id": "632e8efc",
   "metadata": {},
   "source": [
    "## Problem Statement\n",
    "\n",
    "\n",
    "You are a data scientist working for a sports analytics company. The dataset, named **\"sports_league_data.csv\"** includes a variety of attributes for players in the league. The columns in the dataset are as follows:\n",
    "\n",
    "- **player_id:** A unique identifier for each player.\n",
    "- **age:** Age of the player.\n",
    "- **position:** The position the player typically plays in (e.g., Forward, Midfielder, Defender, Goalkeeper).\n",
    "- **team:** The team the player belongs to.\n",
    "- **games_played:** The total number of games played by the player in the season.\n",
    "- **player_rating:** An overall performance rating for the player for the season."
   ]
  },
  {
   "cell_type": "code",
   "execution_count": null,
   "id": "e9c234f5",
   "metadata": {},
   "outputs": [],
   "source": []
  },
  {
   "cell_type": "markdown",
   "id": "3a64f293",
   "metadata": {},
   "source": [
    "**Import Necessary Libraries**"
   ]
  },
  {
   "cell_type": "code",
   "execution_count": 3,
   "id": "8a8c938b",
   "metadata": {},
   "outputs": [],
   "source": [
    "\n",
    "import pandas as pd\n",
    "from matplotlib import pyplot as plt\n",
    "import seaborn as sns"
   ]
  },
  {
   "cell_type": "markdown",
   "id": "e80ff04b",
   "metadata": {},
   "source": [
    "## Task1\n",
    "\n",
    "1. Import the data from the \"sports_league_data.csv\" file.\n",
    "2. display the number of rows and columns. \n",
    "3. Display the first few rows of the dataset to get an overview.\n"
   ]
  },
  {
   "cell_type": "code",
   "execution_count": 4,
   "id": "c355cb68",
   "metadata": {},
   "outputs": [
    {
     "name": "stdout",
     "output_type": "stream",
     "text": [
      "(1000, 6)\n"
     ]
    },
    {
     "data": {
      "text/html": [
       "<div>\n",
       "<style scoped>\n",
       "    .dataframe tbody tr th:only-of-type {\n",
       "        vertical-align: middle;\n",
       "    }\n",
       "\n",
       "    .dataframe tbody tr th {\n",
       "        vertical-align: top;\n",
       "    }\n",
       "\n",
       "    .dataframe thead th {\n",
       "        text-align: right;\n",
       "    }\n",
       "</style>\n",
       "<table border=\"1\" class=\"dataframe\">\n",
       "  <thead>\n",
       "    <tr style=\"text-align: right;\">\n",
       "      <th></th>\n",
       "      <th>player_id</th>\n",
       "      <th>age</th>\n",
       "      <th>position</th>\n",
       "      <th>team</th>\n",
       "      <th>games_played</th>\n",
       "      <th>player_rating</th>\n",
       "    </tr>\n",
       "  </thead>\n",
       "  <tbody>\n",
       "    <tr>\n",
       "      <th>0</th>\n",
       "      <td>P0001</td>\n",
       "      <td>34</td>\n",
       "      <td>Forward</td>\n",
       "      <td>Team 14</td>\n",
       "      <td>29</td>\n",
       "      <td>7.2</td>\n",
       "    </tr>\n",
       "    <tr>\n",
       "      <th>1</th>\n",
       "      <td>P0002</td>\n",
       "      <td>29</td>\n",
       "      <td>Defender</td>\n",
       "      <td>Team 15</td>\n",
       "      <td>27</td>\n",
       "      <td>8.3</td>\n",
       "    </tr>\n",
       "    <tr>\n",
       "      <th>2</th>\n",
       "      <td>P0003</td>\n",
       "      <td>31</td>\n",
       "      <td>Goalkeeper</td>\n",
       "      <td>Team 4</td>\n",
       "      <td>39</td>\n",
       "      <td>6.4</td>\n",
       "    </tr>\n",
       "    <tr>\n",
       "      <th>3</th>\n",
       "      <td>P0004</td>\n",
       "      <td>36</td>\n",
       "      <td>Goalkeeper</td>\n",
       "      <td>Team 6</td>\n",
       "      <td>35</td>\n",
       "      <td>6.6</td>\n",
       "    </tr>\n",
       "    <tr>\n",
       "      <th>4</th>\n",
       "      <td>P0005</td>\n",
       "      <td>34</td>\n",
       "      <td>Defender</td>\n",
       "      <td>Team 14</td>\n",
       "      <td>26</td>\n",
       "      <td>7.2</td>\n",
       "    </tr>\n",
       "  </tbody>\n",
       "</table>\n",
       "</div>"
      ],
      "text/plain": [
       "  player_id  age    position     team  games_played  player_rating\n",
       "0     P0001   34     Forward  Team 14            29            7.2\n",
       "1     P0002   29    Defender  Team 15            27            8.3\n",
       "2     P0003   31  Goalkeeper   Team 4            39            6.4\n",
       "3     P0004   36  Goalkeeper   Team 6            35            6.6\n",
       "4     P0005   34    Defender  Team 14            26            7.2"
      ]
     },
     "execution_count": 4,
     "metadata": {},
     "output_type": "execute_result"
    }
   ],
   "source": [
    "df=pd.read_csv(\"sports_league_data.csv\")\n",
    "print(df.shape)\n",
    "df.head()"
   ]
  },
  {
   "cell_type": "markdown",
   "id": "f865e3b1",
   "metadata": {},
   "source": [
    "## Task2:\n",
    "\n",
    "**Age Analysis:**\n",
    "- Mean: Calculate the average age of players in the league.\n",
    "- Standard Deviation Intervals:\n",
    "    - Calculate the age range within one standard deviation of the mean.\n",
    "    - Calculate the age range within two standard deviations of the mean.\n",
    "    - Calculate the age range within three standard deviations of the mean.\n",
    "  "
   ]
  },
  {
   "cell_type": "code",
   "execution_count": 13,
   "id": "6a8199fa",
   "metadata": {},
   "outputs": [
    {
     "name": "stdout",
     "output_type": "stream",
     "text": [
      "age range in 1 std (22,30)\n",
      "age range in 2 std (18,34)\n",
      "age range in 3 std (14,38)\n"
     ]
    }
   ],
   "source": [
    "mean_age=int(df['age'].mean())\n",
    "std=int(df['age'].std())\n",
    "l1=mean_age-std\n",
    "r1=mean_age+std\n",
    "l2=mean_age-(2*std)\n",
    "r2=mean_age+(2*std)\n",
    "l3=mean_age-(3*std)\n",
    "r3=mean_age+(3*std)\n",
    "print(f'age range in 1 std ({l1},{r1})')\n",
    "print(f'age range in 2 std ({l2},{r2})')\n",
    "print(f'age range in 3 std ({l3},{r3})')"
   ]
  },
  {
   "cell_type": "markdown",
   "id": "25ccac48",
   "metadata": {},
   "source": [
    "## Task3:\n",
    "\n",
    "**Player Rating Analysis:**\n",
    "- Mean: Determine the average player rating across the league.\n",
    "- Standard Deviation Intervals:\n",
    "    - Calculate the player rating range within one standard deviation of the mean.\n",
    "    - Calculate the player rating range within two standard deviations of the mean.\n",
    "    - Calculate the player rating range within three standard deviations of the mean."
   ]
  },
  {
   "cell_type": "code",
   "execution_count": 14,
   "id": "19d1a340",
   "metadata": {},
   "outputs": [
    {
     "name": "stdout",
     "output_type": "stream",
     "text": [
      "mean: 6.5553\n",
      "rating range in 1 std (5.10,8.01)\n",
      "rating range in 2 std (3.65,9.46)\n",
      "rating range in 3 std (2.19,10.92)\n"
     ]
    }
   ],
   "source": [
    "mean_rating=df['player_rating'].mean()\n",
    "print('mean:',mean_rating)\n",
    "std=df['player_rating'].std()\n",
    "l1=mean_rating-std\n",
    "r1=mean_rating+std\n",
    "l2=mean_rating-2*std\n",
    "r2=mean_rating+2*std\n",
    "l3=mean_rating-3*std\n",
    "r3=mean_rating+3*std\n",
    "print(f'rating range in 1 std ({l1:.2f},{r1:.2f})')\n",
    "print(f'rating range in 2 std ({l2:.2f},{r2:.2f})')\n",
    "print(f'rating range in 3 std ({l3:.2f},{r3:.2f})')"
   ]
  },
  {
   "cell_type": "markdown",
   "id": "9a1d87b7",
   "metadata": {},
   "source": [
    "## Task4:\n",
    "\n",
    "Create histogram with Kernel Density Estimation (KDE) plots for both the 'age' and 'player_rating' columns from the dataset. While constructing these plots, ensure to visually represent the standard deviation intervals on the graph.\n"
   ]
  },
  {
   "cell_type": "markdown",
   "id": "f23088ec",
   "metadata": {},
   "source": [
    "- **'age'**"
   ]
  },
  {
   "cell_type": "code",
   "execution_count": 18,
   "id": "46496dc6",
   "metadata": {},
   "outputs": [
    {
     "data": {
      "text/plain": [
       "<matplotlib.lines.Line2D at 0x2235f5917f0>"
      ]
     },
     "execution_count": 18,
     "metadata": {},
     "output_type": "execute_result"
    },
    {
     "data": {
      "image/png": "[encoded data removed]",
      "text/plain": [
       "<Figure size 640x480 with 1 Axes>"
      ]
     },
     "metadata": {},
     "output_type": "display_data"
    }
   ],
   "source": [
    "#stats for mean\n",
    "mean = int(df.age.mean()) \n",
    "std = int(df.age.std())\n",
    "\n",
    "\n",
    "\n",
    "sns.histplot(df.age, kde=True)\n",
    "\n",
    "plt.axvline(mean, color='k', linestyle='dashed', linewidth=1)\n",
    "\n",
    "# one stadard deviation\n",
    "plt.axvline(mean + std, color='r', linestyle='dashed', linewidth=1)\n",
    "plt.axvline(mean - std, color='r', linestyle='dashed', linewidth=1)\n",
    "\n",
    "# two standard deviation\n",
    "plt.axvline(mean + 2*std, color='g', linestyle='dashed', linewidth=1)\n",
    "plt.axvline(mean - 2*std, color='g', linestyle='dashed', linewidth=1)\n",
    "\n",
    "# three standard deviation\n",
    "plt.axvline(mean + 3*std, color='b', linestyle='dashed', linewidth=1)\n",
    "plt.axvline(mean - 3*std, color='b', linestyle='dashed', linewidth=1)"
   ]
  },
  {
   "cell_type": "markdown",
   "id": "d5796d1a",
   "metadata": {},
   "source": [
    "- **'player_rating'**"
   ]
  },
  {
   "cell_type": "code",
   "execution_count": 19,
   "id": "21b7ead2",
   "metadata": {},
   "outputs": [
    {
     "data": {
      "text/plain": [
       "<matplotlib.lines.Line2D at 0x2235f6b1550>"
      ]
     },
     "execution_count": 19,
     "metadata": {},
     "output_type": "execute_result"
    },
    {
     "data": {
      "image/png": "[encoded data removed]",
      "text/plain": [
       "<Figure size 640x480 with 1 Axes>"
      ]
     },
     "metadata": {},
     "output_type": "display_data"
    }
   ],
   "source": [
    "#stats for mean\n",
    "mean = round(df['player_rating'].mean(), 1)\n",
    "std = round(df['player_rating'].std(),1)\n",
    "\n",
    "\n",
    "\n",
    "sns.histplot(df.player_rating, kde=True)\n",
    "\n",
    "plt.axvline(mean, color='k', linestyle='dashed', linewidth=1)\n",
    "\n",
    "# one stadard deviation\n",
    "plt.axvline(mean + std, color='r', linestyle='dashed', linewidth=1)\n",
    "plt.axvline(mean - std, color='r', linestyle='dashed', linewidth=1)\n",
    "\n",
    "# two standard deviation\n",
    "plt.axvline(mean + 2*std, color='g', linestyle='dashed', linewidth=1)\n",
    "plt.axvline(mean - 2*std, color='g', linestyle='dashed', linewidth=1)\n",
    "\n",
    "# three standard deviation\n",
    "plt.axvline(mean + 3*std, color='b', linestyle='dashed', linewidth=1)\n",
    "plt.axvline(mean - 3*std, color='b', linestyle='dashed', linewidth=1)"
   ]
  },
  {
   "cell_type": "markdown",
   "id": "2ce87d11",
   "metadata": {},
   "source": [
    "## Task5\n",
    "\n",
    "- Calculate the lower and upper boundaries for the 'Age' and 'Player_Rating' columns. \n",
    "- For each column, identify values that fall outside the calculated lower and upper boundaries. These values are considered outliers."
   ]
  },
  {
   "cell_type": "markdown",
   "id": "3986392d",
   "metadata": {},
   "source": [
    "- **Display age outliers**"
   ]
  },
  {
   "cell_type": "code",
   "execution_count": 20,
   "id": "03f8e1c1",
   "metadata": {},
   "outputs": [
    {
     "data": {
      "text/html": [
       "<div>\n",
       "<style scoped>\n",
       "    .dataframe tbody tr th:only-of-type {\n",
       "        vertical-align: middle;\n",
       "    }\n",
       "\n",
       "    .dataframe tbody tr th {\n",
       "        vertical-align: top;\n",
       "    }\n",
       "\n",
       "    .dataframe thead th {\n",
       "        text-align: right;\n",
       "    }\n",
       "</style>\n",
       "<table border=\"1\" class=\"dataframe\">\n",
       "  <thead>\n",
       "    <tr style=\"text-align: right;\">\n",
       "      <th></th>\n",
       "      <th>player_id</th>\n",
       "      <th>age</th>\n",
       "      <th>position</th>\n",
       "      <th>team</th>\n",
       "      <th>games_played</th>\n",
       "      <th>player_rating</th>\n",
       "    </tr>\n",
       "  </thead>\n",
       "  <tbody>\n",
       "    <tr>\n",
       "      <th>66</th>\n",
       "      <td>P0067</td>\n",
       "      <td>11</td>\n",
       "      <td>Midfielder</td>\n",
       "      <td>Team 18</td>\n",
       "      <td>38</td>\n",
       "      <td>6.4</td>\n",
       "    </tr>\n",
       "    <tr>\n",
       "      <th>123</th>\n",
       "      <td>P0124</td>\n",
       "      <td>50</td>\n",
       "      <td>Midfielder</td>\n",
       "      <td>Team 11</td>\n",
       "      <td>23</td>\n",
       "      <td>5.9</td>\n",
       "    </tr>\n",
       "    <tr>\n",
       "      <th>156</th>\n",
       "      <td>P0157</td>\n",
       "      <td>46</td>\n",
       "      <td>Midfielder</td>\n",
       "      <td>Team 6</td>\n",
       "      <td>16</td>\n",
       "      <td>4.5</td>\n",
       "    </tr>\n",
       "    <tr>\n",
       "      <th>207</th>\n",
       "      <td>P0208</td>\n",
       "      <td>10</td>\n",
       "      <td>Forward</td>\n",
       "      <td>Team 15</td>\n",
       "      <td>30</td>\n",
       "      <td>6.0</td>\n",
       "    </tr>\n",
       "    <tr>\n",
       "      <th>305</th>\n",
       "      <td>P0306</td>\n",
       "      <td>47</td>\n",
       "      <td>Midfielder</td>\n",
       "      <td>Team 7</td>\n",
       "      <td>22</td>\n",
       "      <td>7.6</td>\n",
       "    </tr>\n",
       "    <tr>\n",
       "      <th>376</th>\n",
       "      <td>P0377</td>\n",
       "      <td>11</td>\n",
       "      <td>Defender</td>\n",
       "      <td>Team 16</td>\n",
       "      <td>25</td>\n",
       "      <td>6.1</td>\n",
       "    </tr>\n",
       "    <tr>\n",
       "      <th>474</th>\n",
       "      <td>P0475</td>\n",
       "      <td>50</td>\n",
       "      <td>Goalkeeper</td>\n",
       "      <td>Team 4</td>\n",
       "      <td>24</td>\n",
       "      <td>7.4</td>\n",
       "    </tr>\n",
       "    <tr>\n",
       "      <th>630</th>\n",
       "      <td>P0631</td>\n",
       "      <td>47</td>\n",
       "      <td>Defender</td>\n",
       "      <td>Team 16</td>\n",
       "      <td>28</td>\n",
       "      <td>6.0</td>\n",
       "    </tr>\n",
       "    <tr>\n",
       "      <th>647</th>\n",
       "      <td>P0648</td>\n",
       "      <td>12</td>\n",
       "      <td>Goalkeeper</td>\n",
       "      <td>Team 16</td>\n",
       "      <td>21</td>\n",
       "      <td>6.1</td>\n",
       "    </tr>\n",
       "    <tr>\n",
       "      <th>795</th>\n",
       "      <td>P0796</td>\n",
       "      <td>11</td>\n",
       "      <td>Goalkeeper</td>\n",
       "      <td>Team 8</td>\n",
       "      <td>33</td>\n",
       "      <td>7.5</td>\n",
       "    </tr>\n",
       "    <tr>\n",
       "      <th>841</th>\n",
       "      <td>P0842</td>\n",
       "      <td>46</td>\n",
       "      <td>Midfielder</td>\n",
       "      <td>Team 18</td>\n",
       "      <td>35</td>\n",
       "      <td>6.0</td>\n",
       "    </tr>\n",
       "    <tr>\n",
       "      <th>922</th>\n",
       "      <td>P0923</td>\n",
       "      <td>12</td>\n",
       "      <td>Forward</td>\n",
       "      <td>Team 14</td>\n",
       "      <td>30</td>\n",
       "      <td>5.5</td>\n",
       "    </tr>\n",
       "    <tr>\n",
       "      <th>923</th>\n",
       "      <td>P0924</td>\n",
       "      <td>48</td>\n",
       "      <td>Defender</td>\n",
       "      <td>Team 17</td>\n",
       "      <td>26</td>\n",
       "      <td>5.6</td>\n",
       "    </tr>\n",
       "    <tr>\n",
       "      <th>955</th>\n",
       "      <td>P0956</td>\n",
       "      <td>12</td>\n",
       "      <td>Goalkeeper</td>\n",
       "      <td>Team 10</td>\n",
       "      <td>33</td>\n",
       "      <td>5.6</td>\n",
       "    </tr>\n",
       "    <tr>\n",
       "      <th>962</th>\n",
       "      <td>P0963</td>\n",
       "      <td>50</td>\n",
       "      <td>Forward</td>\n",
       "      <td>Team 8</td>\n",
       "      <td>29</td>\n",
       "      <td>8.0</td>\n",
       "    </tr>\n",
       "    <tr>\n",
       "      <th>966</th>\n",
       "      <td>P0967</td>\n",
       "      <td>11</td>\n",
       "      <td>Defender</td>\n",
       "      <td>Team 11</td>\n",
       "      <td>33</td>\n",
       "      <td>7.1</td>\n",
       "    </tr>\n",
       "    <tr>\n",
       "      <th>992</th>\n",
       "      <td>P0993</td>\n",
       "      <td>13</td>\n",
       "      <td>Defender</td>\n",
       "      <td>Team 6</td>\n",
       "      <td>35</td>\n",
       "      <td>7.1</td>\n",
       "    </tr>\n",
       "  </tbody>\n",
       "</table>\n",
       "</div>"
      ],
      "text/plain": [
       "    player_id  age    position     team  games_played  player_rating\n",
       "66      P0067   11  Midfielder  Team 18            38            6.4\n",
       "123     P0124   50  Midfielder  Team 11            23            5.9\n",
       "156     P0157   46  Midfielder   Team 6            16            4.5\n",
       "207     P0208   10     Forward  Team 15            30            6.0\n",
       "305     P0306   47  Midfielder   Team 7            22            7.6\n",
       "376     P0377   11    Defender  Team 16            25            6.1\n",
       "474     P0475   50  Goalkeeper   Team 4            24            7.4\n",
       "630     P0631   47    Defender  Team 16            28            6.0\n",
       "647     P0648   12  Goalkeeper  Team 16            21            6.1\n",
       "795     P0796   11  Goalkeeper   Team 8            33            7.5\n",
       "841     P0842   46  Midfielder  Team 18            35            6.0\n",
       "922     P0923   12     Forward  Team 14            30            5.5\n",
       "923     P0924   48    Defender  Team 17            26            5.6\n",
       "955     P0956   12  Goalkeeper  Team 10            33            5.6\n",
       "962     P0963   50     Forward   Team 8            29            8.0\n",
       "966     P0967   11    Defender  Team 11            33            7.1\n",
       "992     P0993   13    Defender   Team 6            35            7.1"
      ]
     },
     "execution_count": 20,
     "metadata": {},
     "output_type": "execute_result"
    }
   ],
   "source": [
    "mean = int(df['age'].mean()) \n",
    "std = int(df['age'].std())\n",
    "\n",
    "lower = mean - 3*std\n",
    "upper = mean + 3*std\n",
    "\n",
    "df[(df.age<lower)|(df.age>upper)]"
   ]
  },
  {
   "cell_type": "markdown",
   "id": "af6a0dec",
   "metadata": {},
   "source": [
    "- **Display player_rating outliers**"
   ]
  },
  {
   "cell_type": "code",
   "execution_count": 21,
   "id": "c024e12e",
   "metadata": {},
   "outputs": [
    {
     "data": {
      "text/html": [
       "<div>\n",
       "<style scoped>\n",
       "    .dataframe tbody tr th:only-of-type {\n",
       "        vertical-align: middle;\n",
       "    }\n",
       "\n",
       "    .dataframe tbody tr th {\n",
       "        vertical-align: top;\n",
       "    }\n",
       "\n",
       "    .dataframe thead th {\n",
       "        text-align: right;\n",
       "    }\n",
       "</style>\n",
       "<table border=\"1\" class=\"dataframe\">\n",
       "  <thead>\n",
       "    <tr style=\"text-align: right;\">\n",
       "      <th></th>\n",
       "      <th>player_id</th>\n",
       "      <th>age</th>\n",
       "      <th>position</th>\n",
       "      <th>team</th>\n",
       "      <th>games_played</th>\n",
       "      <th>player_rating</th>\n",
       "    </tr>\n",
       "  </thead>\n",
       "  <tbody>\n",
       "    <tr>\n",
       "      <th>32</th>\n",
       "      <td>P0033</td>\n",
       "      <td>23</td>\n",
       "      <td>Defender</td>\n",
       "      <td>Team 1</td>\n",
       "      <td>29</td>\n",
       "      <td>2.0</td>\n",
       "    </tr>\n",
       "    <tr>\n",
       "      <th>41</th>\n",
       "      <td>P0042</td>\n",
       "      <td>21</td>\n",
       "      <td>Goalkeeper</td>\n",
       "      <td>Team 19</td>\n",
       "      <td>27</td>\n",
       "      <td>13.0</td>\n",
       "    </tr>\n",
       "    <tr>\n",
       "      <th>96</th>\n",
       "      <td>P0097</td>\n",
       "      <td>27</td>\n",
       "      <td>Defender</td>\n",
       "      <td>Team 2</td>\n",
       "      <td>37</td>\n",
       "      <td>2.0</td>\n",
       "    </tr>\n",
       "    <tr>\n",
       "      <th>194</th>\n",
       "      <td>P0195</td>\n",
       "      <td>29</td>\n",
       "      <td>Forward</td>\n",
       "      <td>Team 6</td>\n",
       "      <td>33</td>\n",
       "      <td>1.0</td>\n",
       "    </tr>\n",
       "    <tr>\n",
       "      <th>212</th>\n",
       "      <td>P0213</td>\n",
       "      <td>30</td>\n",
       "      <td>Defender</td>\n",
       "      <td>Team 7</td>\n",
       "      <td>26</td>\n",
       "      <td>15.0</td>\n",
       "    </tr>\n",
       "    <tr>\n",
       "      <th>297</th>\n",
       "      <td>P0298</td>\n",
       "      <td>29</td>\n",
       "      <td>Goalkeeper</td>\n",
       "      <td>Team 17</td>\n",
       "      <td>31</td>\n",
       "      <td>2.0</td>\n",
       "    </tr>\n",
       "    <tr>\n",
       "      <th>301</th>\n",
       "      <td>P0302</td>\n",
       "      <td>34</td>\n",
       "      <td>Defender</td>\n",
       "      <td>Team 19</td>\n",
       "      <td>30</td>\n",
       "      <td>15.0</td>\n",
       "    </tr>\n",
       "    <tr>\n",
       "      <th>315</th>\n",
       "      <td>P0316</td>\n",
       "      <td>27</td>\n",
       "      <td>Midfielder</td>\n",
       "      <td>Team 15</td>\n",
       "      <td>28</td>\n",
       "      <td>13.0</td>\n",
       "    </tr>\n",
       "    <tr>\n",
       "      <th>387</th>\n",
       "      <td>P0388</td>\n",
       "      <td>21</td>\n",
       "      <td>Goalkeeper</td>\n",
       "      <td>Team 1</td>\n",
       "      <td>35</td>\n",
       "      <td>14.0</td>\n",
       "    </tr>\n",
       "    <tr>\n",
       "      <th>397</th>\n",
       "      <td>P0398</td>\n",
       "      <td>32</td>\n",
       "      <td>Midfielder</td>\n",
       "      <td>Team 4</td>\n",
       "      <td>34</td>\n",
       "      <td>14.0</td>\n",
       "    </tr>\n",
       "    <tr>\n",
       "      <th>438</th>\n",
       "      <td>P0439</td>\n",
       "      <td>30</td>\n",
       "      <td>Midfielder</td>\n",
       "      <td>Team 11</td>\n",
       "      <td>26</td>\n",
       "      <td>15.0</td>\n",
       "    </tr>\n",
       "    <tr>\n",
       "      <th>456</th>\n",
       "      <td>P0457</td>\n",
       "      <td>25</td>\n",
       "      <td>Forward</td>\n",
       "      <td>Team 4</td>\n",
       "      <td>27</td>\n",
       "      <td>12.0</td>\n",
       "    </tr>\n",
       "    <tr>\n",
       "      <th>649</th>\n",
       "      <td>P0650</td>\n",
       "      <td>33</td>\n",
       "      <td>Forward</td>\n",
       "      <td>Team 5</td>\n",
       "      <td>31</td>\n",
       "      <td>1.0</td>\n",
       "    </tr>\n",
       "    <tr>\n",
       "      <th>687</th>\n",
       "      <td>P0688</td>\n",
       "      <td>21</td>\n",
       "      <td>Defender</td>\n",
       "      <td>Team 20</td>\n",
       "      <td>31</td>\n",
       "      <td>2.0</td>\n",
       "    </tr>\n",
       "    <tr>\n",
       "      <th>698</th>\n",
       "      <td>P0699</td>\n",
       "      <td>28</td>\n",
       "      <td>Midfielder</td>\n",
       "      <td>Team 14</td>\n",
       "      <td>22</td>\n",
       "      <td>14.0</td>\n",
       "    </tr>\n",
       "    <tr>\n",
       "      <th>744</th>\n",
       "      <td>P0745</td>\n",
       "      <td>24</td>\n",
       "      <td>Forward</td>\n",
       "      <td>Team 8</td>\n",
       "      <td>22</td>\n",
       "      <td>15.0</td>\n",
       "    </tr>\n",
       "    <tr>\n",
       "      <th>881</th>\n",
       "      <td>P0882</td>\n",
       "      <td>23</td>\n",
       "      <td>Midfielder</td>\n",
       "      <td>Team 1</td>\n",
       "      <td>32</td>\n",
       "      <td>1.0</td>\n",
       "    </tr>\n",
       "    <tr>\n",
       "      <th>985</th>\n",
       "      <td>P0986</td>\n",
       "      <td>29</td>\n",
       "      <td>Forward</td>\n",
       "      <td>Team 15</td>\n",
       "      <td>37</td>\n",
       "      <td>12.0</td>\n",
       "    </tr>\n",
       "  </tbody>\n",
       "</table>\n",
       "</div>"
      ],
      "text/plain": [
       "    player_id  age    position     team  games_played  player_rating\n",
       "32      P0033   23    Defender   Team 1            29            2.0\n",
       "41      P0042   21  Goalkeeper  Team 19            27           13.0\n",
       "96      P0097   27    Defender   Team 2            37            2.0\n",
       "194     P0195   29     Forward   Team 6            33            1.0\n",
       "212     P0213   30    Defender   Team 7            26           15.0\n",
       "297     P0298   29  Goalkeeper  Team 17            31            2.0\n",
       "301     P0302   34    Defender  Team 19            30           15.0\n",
       "315     P0316   27  Midfielder  Team 15            28           13.0\n",
       "387     P0388   21  Goalkeeper   Team 1            35           14.0\n",
       "397     P0398   32  Midfielder   Team 4            34           14.0\n",
       "438     P0439   30  Midfielder  Team 11            26           15.0\n",
       "456     P0457   25     Forward   Team 4            27           12.0\n",
       "649     P0650   33     Forward   Team 5            31            1.0\n",
       "687     P0688   21    Defender  Team 20            31            2.0\n",
       "698     P0699   28  Midfielder  Team 14            22           14.0\n",
       "744     P0745   24     Forward   Team 8            22           15.0\n",
       "881     P0882   23  Midfielder   Team 1            32            1.0\n",
       "985     P0986   29     Forward  Team 15            37           12.0"
      ]
     },
     "execution_count": 21,
     "metadata": {},
     "output_type": "execute_result"
    }
   ],
   "source": [
    "mean = round(df['player_rating'].mean(),1) \n",
    "std = round(df['player_rating'].std(), 1)\n",
    "\n",
    "lower = mean - 3*std\n",
    "upper = mean + 3*std\n",
    "\n",
    "df[(df.player_rating<lower)|(df.player_rating>upper)]"
   ]
  },
  {
   "cell_type": "markdown",
   "id": "cc71ab22",
   "metadata": {},
   "source": [
    "## Task6\n",
    "\n",
    "-  Remove outliers from both the 'age' and 'player_rating' columns and then visualize the adjusted data using histogram plots.\n"
   ]
  },
  {
   "cell_type": "code",
   "execution_count": 25,
   "id": "fef877cb",
   "metadata": {},
   "outputs": [],
   "source": [
    "#1.remove outliers for age\n",
    "\n",
    "mean = int(df['age'].mean()) \n",
    "std = int(df['age'].std())\n",
    "\n",
    "lower = mean - 3*std\n",
    "upper = mean + 3*std\n",
    "\n",
    "df = df[(df.age>lower)&(df.age<upper)]\n",
    "\n",
    "\n",
    "#2.remove outliers for player_rating\n",
    "mean = round(df['player_rating'].mean(),1) \n",
    "std = round(df['player_rating'].std(), 1)\n",
    "\n",
    "lower = mean - 3*std\n",
    "upper = mean + 3*std\n",
    "\n",
    "df = df[(df.player_rating>lower)&(df.player_rating<upper)]"
   ]
  },
  {
   "cell_type": "markdown",
   "id": "7cb10d56",
   "metadata": {},
   "source": [
    "- **plot the histograms**"
   ]
  },
  {
   "cell_type": "code",
   "execution_count": 26,
   "id": "7b7c1296",
   "metadata": {},
   "outputs": [
    {
     "data": {
      "text/plain": [
       "<Axes: xlabel='age', ylabel='Count'>"
      ]
     },
     "execution_count": 26,
     "metadata": {},
     "output_type": "execute_result"
    },
    {
     "data": {
      "image/png": "[encoded data removed]",
      "text/plain": [
       "<Figure size 640x480 with 1 Axes>"
      ]
     },
     "metadata": {},
     "output_type": "display_data"
    }
   ],
   "source": [
    "sns.histplot(df.age, kde=True)"
   ]
  },
  {
   "cell_type": "code",
   "execution_count": 27,
   "id": "8455cbaa",
   "metadata": {},
   "outputs": [
    {
     "data": {
      "text/plain": [
       "<Axes: xlabel='player_rating', ylabel='Count'>"
      ]
     },
     "execution_count": 27,
     "metadata": {},
     "output_type": "execute_result"
    },
    {
     "data": {
      "image/png": "[encoded data removed]",
      "text/plain": [
       "<Figure size 640x480 with 1 Axes>"
      ]
     },
     "metadata": {},
     "output_type": "display_data"
    }
   ],
   "source": [
    "#player_rating\n",
    "\n",
    "sns.histplot(df.player_rating, kde=True)"
   ]
  }
 ],
 "metadata": {
  "kernelspec": {
   "display_name": "Python 3 (ipykernel)",
   "language": "python",
   "name": "python3"
  },
  "language_info": {
   "codemirror_mode": {
    "name": "ipython",
    "version": 3
   },
   "file_extension": ".py",
   "mimetype": "text/x-python",
   "name": "python",
   "nbconvert_exporter": "python",
   "pygments_lexer": "ipython3",
   "version": "3.12.4"
  }
 },
 "nbformat": 4,
 "nbformat_minor": 5
}
